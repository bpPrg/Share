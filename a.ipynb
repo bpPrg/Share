{
 "cells": [
  {
   "cell_type": "markdown",
   "metadata": {
    "toc": true
   },
   "source": [
    "<h1>Table of Contents<span class=\"tocSkip\"></span></h1>\n",
    "<div class=\"toc\"><ul class=\"toc-item\"><li><span><a href=\"#Counting-valleys\" data-toc-modified-id=\"Counting-valleys-1\"><span class=\"toc-item-num\">1&nbsp;&nbsp;</span>Counting valleys</a></span></li></ul></div>"
   ]
  },
  {
   "cell_type": "markdown",
   "metadata": {},
   "source": [
    "# Counting valleys\n",
    "Ref: https://www.hackerrank.com/challenges/counting-valleys/problem?filter=python3&filter_on=language&h_l=interview&page=1&playlist_slugs%5B%5D=interview-preparation-kit&playlist_slugs%5B%5D=warmup\n",
    "\n",
    "![](countint_valleys1.png)\n",
    "![](countint_valleys2.png)"
   ]
  },
  {
   "cell_type": "code",
   "execution_count": 59,
   "metadata": {
    "ExecuteTime": {
     "end_time": "2018-10-09T23:57:01.167944Z",
     "start_time": "2018-10-09T23:57:01.164086Z"
    }
   },
   "outputs": [
    {
     "name": "stdout",
     "output_type": "stream",
     "text": [
      "2\n"
     ]
    }
   ],
   "source": [
    "s='DDUUDDUDUUUD'\n",
    "l,v=0,0\n",
    "\n",
    "for e in s:\n",
    "    if e == 'U':\n",
    "        l += 1\n",
    "        if l == 0:\n",
    "            v += 1\n",
    "    else: # if e=='D'\n",
    "        l -= 1\n",
    "        \n",
    "print(v)"
   ]
  },
  {
   "cell_type": "code",
   "execution_count": null,
   "metadata": {},
   "outputs": [],
   "source": [
    "s = 'DDUUDDUDUUUD'\n",
    "l,v = 0,0\n",
    "\n",
    "for e in s:\n",
    "    if e == 'U':\n",
    "        l+=1\n",
    "        if l ==0:\n",
    "            v+=1\n",
    "    else:\n",
    "        l-=1"
   ]
  }
 ],
 "metadata": {
  "kernelspec": {
   "display_name": "Python (dataSc)",
   "language": "python",
   "name": "datasc"
  },
  "language_info": {
   "codemirror_mode": {
    "name": "ipython",
    "version": 3
   },
   "file_extension": ".py",
   "mimetype": "text/x-python",
   "name": "python",
   "nbconvert_exporter": "python",
   "pygments_lexer": "ipython3",
   "version": "3.7.0"
  },
  "toc": {
   "base_numbering": 1,
   "nav_menu": {},
   "number_sections": true,
   "sideBar": true,
   "skip_h1_title": false,
   "title_cell": "Table of Contents",
   "title_sidebar": "Contents",
   "toc_cell": true,
   "toc_position": {},
   "toc_section_display": true,
   "toc_window_display": true
  }
 },
 "nbformat": 4,
 "nbformat_minor": 2
}
